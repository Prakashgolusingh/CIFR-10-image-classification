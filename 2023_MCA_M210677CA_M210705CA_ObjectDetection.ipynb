{
  "nbformat": 4,
  "nbformat_minor": 0,
  "metadata": {
    "colab": {
      "provenance": []
    },
    "kernelspec": {
      "name": "python3",
      "display_name": "Python 3"
    },
    "language_info": {
      "name": "python"
    },
    "accelerator": "GPU",
    "gpuClass": "standard"
  },
  "cells": [
    {
      "cell_type": "markdown",
      "source": [],
      "metadata": {
        "id": "1kde97SzETxk"
      }
    },
    {
      "cell_type": "code",
      "source": [
        "'''\n",
        "Title -->       10 Object Recognition using ResNet50 \n",
        "\n",
        "Definition -->  In our project we have used a image sample of 50,000 in which we used  40,000 as train data and 10,000\n",
        "                as test data then we used basic keras sequential model to test predict out test data,\n",
        "                but we did not get accuracy much. so used Resnet-50 a cnn model which first we trained with a huge \n",
        "                database of image called imagenet then we used our dataset CIFR-10 to train that pre-trained model\n",
        "                to detect image eventually we got much improved accuracy.  \n",
        "\n",
        "Members         Mukesh Patel      M210705CA         mukesh_m210705ca@nitc.ac.in\n",
        "                Prakash Singh     M210677CA         prakash_m210677ca@nitc.ac.in\n",
        "\n",
        "Submition Date->27 April 2023\n",
        "  '''"
      ],
      "metadata": {
        "colab": {
          "base_uri": "https://localhost:8080/",
          "height": 161
        },
        "id": "LKk8oN97WkZD",
        "outputId": "394423a7-26fe-4e2b-e632-9b8441f46dbd"
      },
      "execution_count": 38,
      "outputs": [
        {
          "output_type": "execute_result",
          "data": {
            "text/plain": [
              "'\\nTitle -->       10 Object Recognition using ResNet50 \\n\\nDefinition -->  In our project we have used a image sample of 50,000 in which we used  40,000 as train data and 10,000\\n                as test data then we used basic keras sequential model to test predict out test data,\\n                but we did not get accuracy much. so used Resnet-50 a cnn model which first we trained with a huge \\n                database of image called imagenet then we used our dataset CIFR-10 to train that pre-trained model\\n                to detect image eventually we got much improved accuracy.  \\n\\nMembers         Mukesh Patel      M210705CA         mukesh_m210705ca@nitc.ac.in\\n                Prakash Singh     M210677CA         prakash_m210677ca@nitc.ac.in\\n\\nSubmition Date->27 April 2023\\n  '"
            ],
            "application/vnd.google.colaboratory.intrinsic+json": {
              "type": "string"
            }
          },
          "metadata": {},
          "execution_count": 38
        }
      ]
    },
    {
      "cell_type": "code",
      "execution_count": 39,
      "metadata": {
        "colab": {
          "base_uri": "https://localhost:8080/",
          "height": 0
        },
        "id": "x55OEAtJ5CrM",
        "outputId": "f2c9bd56-bfe2-4f1c-ea43-e6b574bb6c2a"
      },
      "outputs": [
        {
          "output_type": "stream",
          "name": "stdout",
          "text": [
            "Looking in indexes: https://pypi.org/simple, https://us-python.pkg.dev/colab-wheels/public/simple/\n",
            "Requirement already satisfied: kaggle in /usr/local/lib/python3.9/dist-packages (1.5.13)\n",
            "Requirement already satisfied: six>=1.10 in /usr/local/lib/python3.9/dist-packages (from kaggle) (1.16.0)\n",
            "Requirement already satisfied: certifi in /usr/local/lib/python3.9/dist-packages (from kaggle) (2022.12.7)\n",
            "Requirement already satisfied: python-slugify in /usr/local/lib/python3.9/dist-packages (from kaggle) (8.0.1)\n",
            "Requirement already satisfied: requests in /usr/local/lib/python3.9/dist-packages (from kaggle) (2.27.1)\n",
            "Requirement already satisfied: urllib3 in /usr/local/lib/python3.9/dist-packages (from kaggle) (1.26.15)\n",
            "Requirement already satisfied: python-dateutil in /usr/local/lib/python3.9/dist-packages (from kaggle) (2.8.2)\n",
            "Requirement already satisfied: tqdm in /usr/local/lib/python3.9/dist-packages (from kaggle) (4.65.0)\n",
            "Requirement already satisfied: text-unidecode>=1.3 in /usr/local/lib/python3.9/dist-packages (from python-slugify->kaggle) (1.3)\n",
            "Requirement already satisfied: idna<4,>=2.5 in /usr/local/lib/python3.9/dist-packages (from requests->kaggle) (3.4)\n",
            "Requirement already satisfied: charset-normalizer~=2.0.0 in /usr/local/lib/python3.9/dist-packages (from requests->kaggle) (2.0.12)\n"
          ]
        }
      ],
      "source": [
        "# installing Kaggle to download data\n",
        "!pip install kaggle\n"
      ]
    },
    {
      "cell_type": "code",
      "source": [
        "\n",
        "# configuring the path of Kaggle.json file \n",
        "!mkdir -p ~/.kaggle\n",
        "!cp kaggle.json ~/.kaggle/\n",
        "!chmod 600 ~/.kaggle/kaggle.json\n"
      ],
      "metadata": {
        "id": "Ty9oZQOol6OC"
      },
      "execution_count": 40,
      "outputs": []
    },
    {
      "cell_type": "code",
      "source": [
        "\n",
        "# Dataset API to load dataset from kaggle\n",
        "!kaggle competitions download -c cifar-10\n"
      ],
      "metadata": {
        "colab": {
          "base_uri": "https://localhost:8080/",
          "height": 0
        },
        "id": "MhQMzk8eoZ57",
        "outputId": "45ac465c-4983-4ada-d03a-ac0e33fad814"
      },
      "execution_count": 41,
      "outputs": [
        {
          "output_type": "stream",
          "name": "stdout",
          "text": [
            "cifar-10.zip: Skipping, found more recently modified local copy (use --force to force download)\n"
          ]
        }
      ]
    },
    {
      "cell_type": "code",
      "source": [
        "# to check dataset that downloaded\n",
        "!ls   \n",
        "  "
      ],
      "metadata": {
        "colab": {
          "base_uri": "https://localhost:8080/",
          "height": 0
        },
        "id": "Y0TvXOx4pDPJ",
        "outputId": "fec5750e-4c01-4359-afa0-d8a7e9b2c77e"
      },
      "execution_count": 42,
      "outputs": [
        {
          "output_type": "stream",
          "name": "stdout",
          "text": [
            "cifar-10.zip  kaggle.json  sampleSubmission.csv  train\t   trainLabels.csv\n",
            "drive\t      sample_data  test.7z\t\t train.7z\n"
          ]
        }
      ]
    },
    {
      "cell_type": "code",
      "source": [
        "\n",
        "# Extracting the dataset from downloaded  zip dataset \"cifar-10.zip\"\n",
        "from zipfile import ZipFile\n",
        "\n",
        "# Loading dataset containing test and train dataset in zip\n",
        "dataset = \"/content/cifar-10.zip\"\n",
        "with ZipFile(dataset, 'r') as zip:\n",
        "\n",
        "# Extracting data from zip file\n",
        "    zip.extractall()\n",
        "    print(\"Dataset is extracted\")"
      ],
      "metadata": {
        "colab": {
          "base_uri": "https://localhost:8080/",
          "height": 0
        },
        "id": "Wlfs0-5gpGNh",
        "outputId": "ae50ee51-77ba-4d5e-f002-6f3bb9ce564e"
      },
      "execution_count": 43,
      "outputs": [
        {
          "output_type": "stream",
          "name": "stdout",
          "text": [
            "Dataset is extracted\n"
          ]
        }
      ]
    },
    {
      "cell_type": "code",
      "source": [
        "\n",
        "# Here we can see that all extracted file from zip\n",
        "!ls\n"
      ],
      "metadata": {
        "colab": {
          "base_uri": "https://localhost:8080/",
          "height": 0
        },
        "id": "W3dC8LbHqIld",
        "outputId": "dafff431-fc1c-4832-cc92-99f2b28f0080"
      },
      "execution_count": 44,
      "outputs": [
        {
          "output_type": "stream",
          "name": "stdout",
          "text": [
            "cifar-10.zip  kaggle.json  sampleSubmission.csv  train\t   trainLabels.csv\n",
            "drive\t      sample_data  test.7z\t\t train.7z\n"
          ]
        }
      ]
    },
    {
      "cell_type": "code",
      "source": [
        "\n",
        "# Downloading py7zr extracting libraries to extract py7zr type files.\n",
        "!pip install py7zr\n"
      ],
      "metadata": {
        "colab": {
          "base_uri": "https://localhost:8080/",
          "height": 0
        },
        "id": "H14bJQmSqh4e",
        "outputId": "366824b9-5f4a-4acb-ef8a-9caf15e2f55c"
      },
      "execution_count": 45,
      "outputs": [
        {
          "output_type": "stream",
          "name": "stdout",
          "text": [
            "Looking in indexes: https://pypi.org/simple, https://us-python.pkg.dev/colab-wheels/public/simple/\n",
            "Requirement already satisfied: py7zr in /usr/local/lib/python3.9/dist-packages (0.20.5)\n",
            "Requirement already satisfied: texttable in /usr/local/lib/python3.9/dist-packages (from py7zr) (1.6.7)\n",
            "Requirement already satisfied: pycryptodomex>=3.6.6 in /usr/local/lib/python3.9/dist-packages (from py7zr) (3.17)\n",
            "Requirement already satisfied: brotli>=1.0.9 in /usr/local/lib/python3.9/dist-packages (from py7zr) (1.0.9)\n",
            "Requirement already satisfied: pybcj>=0.6.0 in /usr/local/lib/python3.9/dist-packages (from py7zr) (1.0.1)\n",
            "Requirement already satisfied: psutil in /usr/local/lib/python3.9/dist-packages (from py7zr) (5.9.5)\n",
            "Requirement already satisfied: multivolumefile>=0.2.3 in /usr/local/lib/python3.9/dist-packages (from py7zr) (0.2.3)\n",
            "Requirement already satisfied: inflate64>=0.3.1 in /usr/local/lib/python3.9/dist-packages (from py7zr) (0.3.1)\n",
            "Requirement already satisfied: pyppmd<1.1.0,>=0.18.1 in /usr/local/lib/python3.9/dist-packages (from py7zr) (1.0.0)\n",
            "Requirement already satisfied: pyzstd>=0.14.4 in /usr/local/lib/python3.9/dist-packages (from py7zr) (0.15.7)\n"
          ]
        }
      ]
    },
    {
      "cell_type": "code",
      "source": [
        "# importing py7zr to unzip train and test dataset from 7z type file.\n",
        "import py7zr\n",
        "\n",
        "# Loading train dataset in archive_train\n",
        "archive = py7zr.SevenZipFile(\"/content/train.7z\", mode = 'r')\n",
        "archive.extractall()    # Extracting all file from training zip file.\n",
        "archive.close()\n"
      ],
      "metadata": {
        "id": "1OHLAV6ZrH3f"
      },
      "execution_count": 46,
      "outputs": []
    },
    {
      "cell_type": "code",
      "source": [
        "# we can now have extracted train and test dataset file\n",
        "!ls"
      ],
      "metadata": {
        "colab": {
          "base_uri": "https://localhost:8080/",
          "height": 0
        },
        "id": "nZrV8KZ-sA8Y",
        "outputId": "2e4d0c38-8d12-45ad-b820-a086cc9ff83e"
      },
      "execution_count": 47,
      "outputs": [
        {
          "output_type": "stream",
          "name": "stdout",
          "text": [
            "cifar-10.zip  kaggle.json  sampleSubmission.csv  train\t   trainLabels.csv\n",
            "drive\t      sample_data  test.7z\t\t train.7z\n"
          ]
        }
      ]
    },
    {
      "cell_type": "code",
      "source": [
        "# importing some libraries \n",
        "\n",
        "#  os is used for creating and removing a directory (folder),\n",
        "# fetching its contents, changing and identifying the current directory\n",
        "import os\n",
        "\n",
        "# numpy adds support for large, multi-dimensional arrays and matrices\n",
        "import numpy as np\n",
        "\n",
        "# pandas used for working with data sets\n",
        "import pandas as pd\n",
        "\n",
        "# PIL stands for Python Image Library used to deal with image\n",
        "from PIL import Image\n",
        "\n",
        "# Matplotlib for creating static, animated, and interactive visualizations in Python\n",
        "import matplotlib.pyplot as plt\n",
        "# mpimg deal with image\n",
        "import matplotlib.image as mpimg\n",
        "from sklearn.model_selection import train_test_split"
      ],
      "metadata": {
        "id": "XDrc46Od4PNm"
      },
      "execution_count": 48,
      "outputs": []
    },
    {
      "cell_type": "code",
      "source": [
        "\n",
        "# Loading test dataset\n",
        "\n",
        "# loading train data as list using os module\n",
        "filenames = os.listdir(\"/content/train\")\n",
        " \n",
        "# To confirm it is in list form \n",
        "print(type(filenames))\n"
      ],
      "metadata": {
        "colab": {
          "base_uri": "https://localhost:8080/",
          "height": 0
        },
        "id": "zhEXttAxxZo6",
        "outputId": "8be1458f-b331-4081-bee9-388dbfe1af8a"
      },
      "execution_count": 49,
      "outputs": [
        {
          "output_type": "stream",
          "name": "stdout",
          "text": [
            "<class 'list'>\n"
          ]
        }
      ]
    },
    {
      "cell_type": "code",
      "source": [
        "\n",
        "# Checking filenames length\n",
        "print(len(filenames))\n"
      ],
      "metadata": {
        "colab": {
          "base_uri": "https://localhost:8080/",
          "height": 0
        },
        "id": "JB7mp8MGx72G",
        "outputId": "1146ffbb-36c3-43f0-9dc2-299cf225cac6"
      },
      "execution_count": 50,
      "outputs": [
        {
          "output_type": "stream",
          "name": "stdout",
          "text": [
            "50000\n"
          ]
        }
      ]
    },
    {
      "cell_type": "code",
      "source": [
        "\n",
        "# To check  are not in order \n",
        "# Printing top 5 rows of dataset\n",
        "print(filenames[0:5])\n",
        "\n",
        "# Printing last 5 rows of dataset\n",
        "print(filenames[-5:])\n"
      ],
      "metadata": {
        "colab": {
          "base_uri": "https://localhost:8080/",
          "height": 0
        },
        "id": "LebSV2CK0aeJ",
        "outputId": "f6f9d8fc-abbc-43b4-e010-dac98c941014"
      },
      "execution_count": 51,
      "outputs": [
        {
          "output_type": "stream",
          "name": "stdout",
          "text": [
            "['14715.png', '48659.png', '37205.png', '40568.png', '18854.png']\n",
            "['1697.png', '7626.png', '39684.png', '32866.png', '10013.png']\n"
          ]
        }
      ]
    },
    {
      "cell_type": "markdown",
      "source": [
        "**Label Processing**"
      ],
      "metadata": {
        "id": "UnrAuQ0Z0rzu"
      }
    },
    {
      "cell_type": "code",
      "source": [
        "#  labels_df cointain target class of training image dataset\n",
        "labels_df = pd.read_csv(\"/content/trainLabels.csv\")\n",
        "\n",
        "# Checking the shape of labels_df\n",
        "print(labels_df.shape)\n"
      ],
      "metadata": {
        "colab": {
          "base_uri": "https://localhost:8080/",
          "height": 0
        },
        "id": "IE1DeKXB0zdn",
        "outputId": "03886b4d-fd24-4509-a099-08d4fa010216"
      },
      "execution_count": 52,
      "outputs": [
        {
          "output_type": "stream",
          "name": "stdout",
          "text": [
            "(50000, 2)\n"
          ]
        }
      ]
    },
    {
      "cell_type": "code",
      "source": [
        "\n",
        "# Printing first 5 data of labels_df to check data.\n",
        "print(labels_df.head())\n"
      ],
      "metadata": {
        "colab": {
          "base_uri": "https://localhost:8080/",
          "height": 0
        },
        "id": "A2C2-BzI1SFL",
        "outputId": "e383e6c5-2a02-427e-9ee8-b76d49c310dc"
      },
      "execution_count": 53,
      "outputs": [
        {
          "output_type": "stream",
          "name": "stdout",
          "text": [
            "   id       label\n",
            "0   1        frog\n",
            "1   2       truck\n",
            "2   3       truck\n",
            "3   4        deer\n",
            "4   5  automobile\n"
          ]
        }
      ]
    },
    {
      "cell_type": "code",
      "source": [
        "\n",
        "# just checking train image data and labels data are matching\n",
        "print(labels_df[labels_df['id']==44493])\n"
      ],
      "metadata": {
        "colab": {
          "base_uri": "https://localhost:8080/",
          "height": 0
        },
        "id": "QkJC3gCW113k",
        "outputId": "84a2fdb6-b173-4d54-e29b-02735ff073b7"
      },
      "execution_count": 54,
      "outputs": [
        {
          "output_type": "stream",
          "name": "stdout",
          "text": [
            "          id label\n",
            "44492  44493  frog\n"
          ]
        }
      ]
    },
    {
      "cell_type": "code",
      "source": [
        "\n",
        "# labels_df contain data in order\n",
        "# Printing first 10 rows of labels_df\n",
        "print(labels_df.head(10))\n"
      ],
      "metadata": {
        "colab": {
          "base_uri": "https://localhost:8080/",
          "height": 0
        },
        "id": "pqnPd5rZ2R3q",
        "outputId": "570ab242-da94-4e57-8e29-d174f99bf935"
      },
      "execution_count": 55,
      "outputs": [
        {
          "output_type": "stream",
          "name": "stdout",
          "text": [
            "   id       label\n",
            "0   1        frog\n",
            "1   2       truck\n",
            "2   3       truck\n",
            "3   4        deer\n",
            "4   5  automobile\n",
            "5   6  automobile\n",
            "6   7        bird\n",
            "7   8       horse\n",
            "8   9        ship\n",
            "9  10         cat\n"
          ]
        }
      ]
    },
    {
      "cell_type": "code",
      "source": [
        "\n",
        "# printing last 10 rows of labels_df\n",
        "print(labels_df.tail(10))\n"
      ],
      "metadata": {
        "colab": {
          "base_uri": "https://localhost:8080/",
          "height": 0
        },
        "id": "32WmaTIV2Xaq",
        "outputId": "e60ce7a1-f8a7-41eb-b41b-6f4c4dbfe733"
      },
      "execution_count": 56,
      "outputs": [
        {
          "output_type": "stream",
          "name": "stdout",
          "text": [
            "          id       label\n",
            "49990  49991        deer\n",
            "49991  49992        bird\n",
            "49992  49993    airplane\n",
            "49993  49994  automobile\n",
            "49994  49995    airplane\n",
            "49995  49996        bird\n",
            "49996  49997        frog\n",
            "49997  49998       truck\n",
            "49998  49999  automobile\n",
            "49999  50000  automobile\n"
          ]
        }
      ]
    },
    {
      "cell_type": "code",
      "source": [
        "# Printing the no. of intance of each object\n",
        "print(labels_df['label'].value_counts())\n"
      ],
      "metadata": {
        "colab": {
          "base_uri": "https://localhost:8080/",
          "height": 0
        },
        "id": "d4fxkyit2eLm",
        "outputId": "27b60e75-f987-48cc-bc32-cd7233723d08"
      },
      "execution_count": 57,
      "outputs": [
        {
          "output_type": "stream",
          "name": "stdout",
          "text": [
            "frog          5000\n",
            "truck         5000\n",
            "deer          5000\n",
            "automobile    5000\n",
            "bird          5000\n",
            "horse         5000\n",
            "ship          5000\n",
            "cat           5000\n",
            "dog           5000\n",
            "airplane      5000\n",
            "Name: label, dtype: int64\n"
          ]
        }
      ]
    },
    {
      "cell_type": "code",
      "source": [
        "labels_dictionary = {'airplane':0, 'automobile':1, 'bird':2, 'cat':3, 'deer':4, 'dog':5, 'frog':6, 'horse':7, 'ship':8, 'truck':9}\n",
        "\n",
        "labels = [labels_dictionary[i] for i in labels_df['label']]\n"
      ],
      "metadata": {
        "id": "lsfTS0y56re8"
      },
      "execution_count": 58,
      "outputs": []
    },
    {
      "cell_type": "code",
      "source": [
        "# Printing after encoding\n",
        "print(labels[0:5])\n",
        "print(labels[-5:])"
      ],
      "metadata": {
        "colab": {
          "base_uri": "https://localhost:8080/",
          "height": 0
        },
        "id": "yRvMiElz4yKE",
        "outputId": "7c211488-bdbb-4f79-d701-5dc67e6bed09"
      },
      "execution_count": 59,
      "outputs": [
        {
          "output_type": "stream",
          "name": "stdout",
          "text": [
            "[6, 9, 9, 4, 1]\n",
            "[2, 6, 9, 1, 1]\n"
          ]
        }
      ]
    },
    {
      "cell_type": "code",
      "source": [
        "# displaying sample image frog\n",
        "import cv2\n",
        "from google.colab.patches import cv2_imshow\n",
        "# After given path of file train we need to put the name of image which we want to show\n",
        "img = cv2.imread('/content/train/7796.png')\n",
        "# Here we are showing the image of frog.\n",
        "print(labels_df[labels_df['id']== 7796])\n",
        "# A fn two show image\n",
        "cv2_imshow(img)"
      ],
      "metadata": {
        "colab": {
          "base_uri": "https://localhost:8080/",
          "height": 85
        },
        "id": "uRnzEKOG5amG",
        "outputId": "a04ec617-17e3-4da3-e1ad-b8cf80eac39a"
      },
      "execution_count": 60,
      "outputs": [
        {
          "output_type": "stream",
          "name": "stdout",
          "text": [
            "        id label\n",
            "7795  7796  frog\n"
          ]
        },
        {
          "output_type": "display_data",
          "data": {
            "text/plain": [
              "<PIL.Image.Image image mode=RGB size=32x32 at 0x7FA872E9CEB0>"
            ],
            "image/png": "[encoded data removed]"
          },
          "metadata": {}
        }
      ]
    },
    {
      "cell_type": "code",
      "source": [
        "# displaying sample image of dog\n",
        "import cv2\n",
        "from google.colab.patches import cv2_imshow\n",
        "\n",
        "img = cv2.imread('/content/train/45888.png')\n",
        "print(labels_df[labels_df['id']== 45888])\n",
        "cv2_imshow(img)"
      ],
      "metadata": {
        "colab": {
          "base_uri": "https://localhost:8080/",
          "height": 85
        },
        "id": "LgSgqHII5a6h",
        "outputId": "b99e0b08-4890-4909-f6be-02de146357ef"
      },
      "execution_count": 61,
      "outputs": [
        {
          "output_type": "stream",
          "name": "stdout",
          "text": [
            "          id label\n",
            "45887  45888   dog\n"
          ]
        },
        {
          "output_type": "display_data",
          "data": {
            "text/plain": [
              "<PIL.Image.Image image mode=RGB size=32x32 at 0x7FA890459F10>"
            ],
            "image/png": "[encoded data removed]"
          },
          "metadata": {}
        }
      ]
    },
    {
      "cell_type": "code",
      "source": [
        "# creating a list contains id of each intances\n",
        "id_list = list(labels_df['id'])\n",
        "print(\"Lnegth of id_list_train\",len(id_list))\n",
        "print(id_list[0:5])\n",
        "print(id_list[-5:])\n"
      ],
      "metadata": {
        "colab": {
          "base_uri": "https://localhost:8080/",
          "height": 0
        },
        "id": "uy5mvWxu5a-V",
        "outputId": "82ad0c6d-dc2f-459a-d7dd-3c131601ab5f"
      },
      "execution_count": 62,
      "outputs": [
        {
          "output_type": "stream",
          "name": "stdout",
          "text": [
            "Lnegth of id_list_train 50000\n",
            "[1, 2, 3, 4, 5]\n",
            "[49996, 49997, 49998, 49999, 50000]\n"
          ]
        }
      ]
    },
    {
      "cell_type": "markdown",
      "source": [
        "**Image Processing**"
      ],
      "metadata": {
        "id": "o6zb7UveCVaQ"
      }
    },
    {
      "cell_type": "code",
      "source": [
        "# Image processing\n",
        "# Loading the train dataset\n",
        "data_folder = '/content/train/'\n",
        "\n",
        "# to convert images to numpy arrays\n",
        "data = []\n",
        "\n",
        "for id in id_list:\n",
        "    # eg. image = /content/train/001.png or /content/train/002.png, etc\n",
        "    image = Image.open(data_folder + str(id) + '.png')\n",
        "  \n",
        "    #converting image to numpy array type\n",
        "    image = np.array(image)\n",
        "    # And then appending to list data\n",
        "    data.append(image)\n"
      ],
      "metadata": {
        "id": "99bggfY-5bEB"
      },
      "execution_count": 63,
      "outputs": []
    },
    {
      "cell_type": "code",
      "source": [
        "# print data type of variable data\n",
        "print(type(data))\n",
        "# Printing length of data\n",
        "print(\"length of train_data list \", len(data))\n"
      ],
      "metadata": {
        "colab": {
          "base_uri": "https://localhost:8080/",
          "height": 0
        },
        "id": "Mf9TgwdK5bFp",
        "outputId": "86fa5581-5668-43dc-a0ad-fc6c3de9339e"
      },
      "execution_count": 64,
      "outputs": [
        {
          "output_type": "stream",
          "name": "stdout",
          "text": [
            "<class 'list'>\n",
            "length of train_data list  50000\n"
          ]
        }
      ]
    },
    {
      "cell_type": "code",
      "source": [
        "# Printing type of element store in list data\n",
        "print(type(data[0]))\n",
        "# Printing shape of each element ie. image type\n",
        "print(\"Size of each image store as ndarray in data\",data[0].shape)\n",
        "# i.e. (32, 32, 3) here 32 is width and length in pixel and 3 denotes color RGB\n"
      ],
      "metadata": {
        "colab": {
          "base_uri": "https://localhost:8080/",
          "height": 0
        },
        "id": "ahjQXHsA5bOC",
        "outputId": "f944ea73-40c0-48c0-83b3-c586a29c627a"
      },
      "execution_count": 65,
      "outputs": [
        {
          "output_type": "stream",
          "name": "stdout",
          "text": [
            "<class 'numpy.ndarray'>\n",
            "Size of each image store as ndarray in data (32, 32, 3)\n"
          ]
        }
      ]
    },
    {
      "cell_type": "code",
      "source": [
        "# Printing the image in pixel matrix form\n",
        "print(data[0])\n"
      ],
      "metadata": {
        "colab": {
          "base_uri": "https://localhost:8080/",
          "height": 0
        },
        "id": "8wBvKzGAAK8A",
        "outputId": "d8f02067-7e01-4f90-f2e0-c8007fec60fd"
      },
      "execution_count": 66,
      "outputs": [
        {
          "output_type": "stream",
          "name": "stdout",
          "text": [
            "[[[ 59  62  63]\n",
            "  [ 43  46  45]\n",
            "  [ 50  48  43]\n",
            "  ...\n",
            "  [158 132 108]\n",
            "  [152 125 102]\n",
            "  [148 124 103]]\n",
            "\n",
            " [[ 16  20  20]\n",
            "  [  0   0   0]\n",
            "  [ 18   8   0]\n",
            "  ...\n",
            "  [123  88  55]\n",
            "  [119  83  50]\n",
            "  [122  87  57]]\n",
            "\n",
            " [[ 25  24  21]\n",
            "  [ 16   7   0]\n",
            "  [ 49  27   8]\n",
            "  ...\n",
            "  [118  84  50]\n",
            "  [120  84  50]\n",
            "  [109  73  42]]\n",
            "\n",
            " ...\n",
            "\n",
            " [[208 170  96]\n",
            "  [201 153  34]\n",
            "  [198 161  26]\n",
            "  ...\n",
            "  [160 133  70]\n",
            "  [ 56  31   7]\n",
            "  [ 53  34  20]]\n",
            "\n",
            " [[180 139  96]\n",
            "  [173 123  42]\n",
            "  [186 144  30]\n",
            "  ...\n",
            "  [184 148  94]\n",
            "  [ 97  62  34]\n",
            "  [ 83  53  34]]\n",
            "\n",
            " [[177 144 116]\n",
            "  [168 129  94]\n",
            "  [179 142  87]\n",
            "  ...\n",
            "  [216 184 140]\n",
            "  [151 118  84]\n",
            "  [123  92  72]]]\n"
          ]
        }
      ]
    },
    {
      "cell_type": "code",
      "source": [
        "# convert image list and label list to numpy arrays\n",
        "\n",
        "X = np.array(data) # converting list of image into numpy array\n",
        "Y = np.array(labels) # convering our labels list into numpy array\n"
      ],
      "metadata": {
        "id": "cndf9niEAK6u"
      },
      "execution_count": 67,
      "outputs": []
    },
    {
      "cell_type": "markdown",
      "source": [
        "**Train Test Split**"
      ],
      "metadata": {
        "id": "rzNu2y_bUu58"
      }
    },
    {
      "cell_type": "code",
      "source": [
        "# Train Test Split\n",
        "X_train, X_test, Y_train, Y_test = train_test_split(X, Y, test_size=0.2, random_state=2)"
      ],
      "metadata": {
        "id": "4b2JI5c-UPxS"
      },
      "execution_count": 68,
      "outputs": []
    },
    {
      "cell_type": "code",
      "source": [
        "# printing type and shape of X that contains our image\n",
        "print(\"Type of x\", type(X))\n",
        "print(\"Shape of X \", X.shape)\n",
        "\n",
        "# Printing type and shape of y\n",
        "print(\"Type of Y\", type(Y_train))\n",
        "print(\"Shape of Y \", Y_train.shape)\n",
        "\n",
        "\n",
        "print(\"Type of x_test\", type(X_test))\n",
        "print(\"Shape of X_test \", X_test.shape)\n",
        "\n",
        "# Printing type and shape of y\n",
        "print(\"Type of Y_test\", type(Y_test))\n",
        "print(\"Shape of Y_test \", Y_test.shape)"
      ],
      "metadata": {
        "colab": {
          "base_uri": "https://localhost:8080/",
          "height": 0
        },
        "id": "gahb8jtsAK_5",
        "outputId": "9bfa4066-abbc-4ac7-837e-465063f3738f"
      },
      "execution_count": 69,
      "outputs": [
        {
          "output_type": "stream",
          "name": "stdout",
          "text": [
            "Type of x <class 'numpy.ndarray'>\n",
            "Shape of X  (50000, 32, 32, 3)\n",
            "Type of Y <class 'numpy.ndarray'>\n",
            "Shape of Y  (40000,)\n",
            "Type of x_test <class 'numpy.ndarray'>\n",
            "Shape of X_test  (10000, 32, 32, 3)\n",
            "Type of Y_test <class 'numpy.ndarray'>\n",
            "Shape of Y_test  (10000,)\n"
          ]
        }
      ]
    },
    {
      "cell_type": "code",
      "source": [
        "# scaling the data\n",
        "X_train_scaled = X_train/255\n",
        "X_test_scaled = X_test/255\n",
        "# now the pixels will be in range 0-1 istead of 0-256\n",
        "\n",
        "# printing X_train and X_test\n",
        "print(X_train_scaled)\n"
      ],
      "metadata": {
        "colab": {
          "base_uri": "https://localhost:8080/",
          "height": 0
        },
        "id": "Cw3pisgUALF-",
        "outputId": "d93060a1-6924-4afe-b7d8-a5d3b7759014"
      },
      "execution_count": 70,
      "outputs": [
        {
          "output_type": "stream",
          "name": "stdout",
          "text": [
            "[[[[0.81960784 0.82352941 0.79607843]\n",
            "   [0.83529412 0.83921569 0.81960784]\n",
            "   [0.85490196 0.85882353 0.84313725]\n",
            "   ...\n",
            "   [0.49803922 0.29019608 0.15294118]\n",
            "   [0.47843137 0.26666667 0.1372549 ]\n",
            "   [0.45490196 0.24705882 0.1254902 ]]\n",
            "\n",
            "  [[0.82352941 0.82352941 0.79215686]\n",
            "   [0.83529412 0.83921569 0.81176471]\n",
            "   [0.85490196 0.8627451  0.83921569]\n",
            "   ...\n",
            "   [0.48627451 0.2745098  0.1372549 ]\n",
            "   [0.4745098  0.2627451  0.12941176]\n",
            "   [0.48235294 0.27058824 0.14117647]]\n",
            "\n",
            "  [[0.80784314 0.80392157 0.76470588]\n",
            "   [0.81960784 0.81960784 0.79215686]\n",
            "   [0.83529412 0.84313725 0.81960784]\n",
            "   ...\n",
            "   [0.48627451 0.2745098  0.14509804]\n",
            "   [0.51372549 0.30196078 0.16470588]\n",
            "   [0.51372549 0.30588235 0.16078431]]\n",
            "\n",
            "  ...\n",
            "\n",
            "  [[0.49803922 0.42352941 0.38039216]\n",
            "   [0.54117647 0.47843137 0.43137255]\n",
            "   [0.55294118 0.49803922 0.4627451 ]\n",
            "   ...\n",
            "   [0.61960784 0.58431373 0.5254902 ]\n",
            "   [0.63137255 0.61176471 0.59215686]\n",
            "   [0.53333333 0.5372549  0.58039216]]\n",
            "\n",
            "  [[0.56862745 0.50980392 0.46666667]\n",
            "   [0.58039216 0.52941176 0.50196078]\n",
            "   [0.53333333 0.49803922 0.50196078]\n",
            "   ...\n",
            "   [0.68627451 0.68235294 0.6745098 ]\n",
            "   [0.62745098 0.63137255 0.66666667]\n",
            "   [0.56078431 0.58039216 0.64313725]]\n",
            "\n",
            "  [[0.54117647 0.50196078 0.48235294]\n",
            "   [0.54901961 0.51764706 0.53333333]\n",
            "   [0.53333333 0.51372549 0.54901961]\n",
            "   ...\n",
            "   [0.58823529 0.60392157 0.6627451 ]\n",
            "   [0.56862745 0.58431373 0.65098039]\n",
            "   [0.54901961 0.56862745 0.63921569]]]\n",
            "\n",
            "\n",
            " [[[0.73333333 0.81176471 0.94117647]\n",
            "   [0.72941176 0.80392157 0.92941176]\n",
            "   [0.7372549  0.81176471 0.94117647]\n",
            "   ...\n",
            "   [0.64705882 0.78823529 0.9254902 ]\n",
            "   [0.63921569 0.77647059 0.92156863]\n",
            "   [0.63921569 0.78039216 0.9254902 ]]\n",
            "\n",
            "  [[0.75686275 0.83137255 0.95294118]\n",
            "   [0.75294118 0.82352941 0.94509804]\n",
            "   [0.76078431 0.83137255 0.95294118]\n",
            "   ...\n",
            "   [0.6627451  0.8        0.93333333]\n",
            "   [0.65490196 0.79215686 0.93333333]\n",
            "   [0.65490196 0.79215686 0.93333333]]\n",
            "\n",
            "  [[0.77647059 0.83921569 0.95686275]\n",
            "   [0.76862745 0.83137255 0.94509804]\n",
            "   [0.77647059 0.83921569 0.95294118]\n",
            "   ...\n",
            "   [0.6745098  0.80392157 0.93333333]\n",
            "   [0.66666667 0.79607843 0.9254902 ]\n",
            "   [0.66666667 0.8        0.93333333]]\n",
            "\n",
            "  ...\n",
            "\n",
            "  [[0.24705882 0.63529412 0.67058824]\n",
            "   [0.23921569 0.62352941 0.65882353]\n",
            "   [0.25490196 0.63921569 0.6745098 ]\n",
            "   ...\n",
            "   [0.38039216 0.71372549 0.71372549]\n",
            "   [0.38039216 0.70980392 0.70980392]\n",
            "   [0.38431373 0.72156863 0.72156863]]\n",
            "\n",
            "  [[0.22745098 0.64705882 0.68235294]\n",
            "   [0.21568627 0.63137255 0.6627451 ]\n",
            "   [0.24313725 0.64705882 0.67843137]\n",
            "   ...\n",
            "   [0.37254902 0.70196078 0.70196078]\n",
            "   [0.36862745 0.70196078 0.69411765]\n",
            "   [0.36862745 0.70980392 0.69803922]]\n",
            "\n",
            "  [[0.20392157 0.64705882 0.68627451]\n",
            "   [0.21176471 0.65098039 0.6745098 ]\n",
            "   [0.25882353 0.66666667 0.69019608]\n",
            "   ...\n",
            "   [0.37254902 0.68235294 0.69019608]\n",
            "   [0.36470588 0.68627451 0.6745098 ]\n",
            "   [0.36470588 0.69803922 0.67058824]]]\n",
            "\n",
            "\n",
            " [[[0.41568627 0.4627451  0.56078431]\n",
            "   [0.40392157 0.45098039 0.54901961]\n",
            "   [0.40784314 0.45882353 0.55294118]\n",
            "   ...\n",
            "   [0.34901961 0.38039216 0.49411765]\n",
            "   [0.34509804 0.36862745 0.4745098 ]\n",
            "   [0.32941176 0.34509804 0.44313725]]\n",
            "\n",
            "  [[0.34901961 0.38823529 0.50588235]\n",
            "   [0.34117647 0.38431373 0.49803922]\n",
            "   [0.34509804 0.38823529 0.50196078]\n",
            "   ...\n",
            "   [0.28235294 0.32156863 0.44705882]\n",
            "   [0.31372549 0.34509804 0.4627451 ]\n",
            "   [0.30196078 0.3254902  0.43529412]]\n",
            "\n",
            "  [[0.29803922 0.37254902 0.49411765]\n",
            "   [0.29411765 0.36470588 0.48627451]\n",
            "   [0.29411765 0.36470588 0.48627451]\n",
            "   ...\n",
            "   [0.22352941 0.29411765 0.45490196]\n",
            "   [0.23921569 0.29803922 0.45098039]\n",
            "   [0.23529412 0.29019608 0.43529412]]\n",
            "\n",
            "  ...\n",
            "\n",
            "  [[0.16078431 0.19607843 0.31372549]\n",
            "   [0.15294118 0.18823529 0.30196078]\n",
            "   [0.14509804 0.18039216 0.29411765]\n",
            "   ...\n",
            "   [0.14509804 0.18039216 0.30980392]\n",
            "   [0.14509804 0.18039216 0.30980392]\n",
            "   [0.15686275 0.19215686 0.32156863]]\n",
            "\n",
            "  [[0.17647059 0.20784314 0.31764706]\n",
            "   [0.16470588 0.19607843 0.30980392]\n",
            "   [0.16470588 0.19215686 0.31372549]\n",
            "   ...\n",
            "   [0.15294118 0.18039216 0.30980392]\n",
            "   [0.15686275 0.18431373 0.31764706]\n",
            "   [0.16078431 0.19215686 0.32156863]]\n",
            "\n",
            "  [[0.18431373 0.22745098 0.33333333]\n",
            "   [0.16078431 0.20392157 0.31764706]\n",
            "   [0.16470588 0.20392157 0.32941176]\n",
            "   ...\n",
            "   [0.16078431 0.18431373 0.31372549]\n",
            "   [0.16078431 0.18431373 0.31764706]\n",
            "   [0.15686275 0.18039216 0.31372549]]]\n",
            "\n",
            "\n",
            " ...\n",
            "\n",
            "\n",
            " [[[0.79215686 0.65098039 0.54117647]\n",
            "   [0.84313725 0.70196078 0.59607843]\n",
            "   [0.91764706 0.77647059 0.67058824]\n",
            "   ...\n",
            "   [0.61960784 0.62745098 0.61568627]\n",
            "   [0.61568627 0.62745098 0.61176471]\n",
            "   [0.64705882 0.65490196 0.64313725]]\n",
            "\n",
            "  [[0.81176471 0.68627451 0.57254902]\n",
            "   [0.86666667 0.74117647 0.63137255]\n",
            "   [0.93333333 0.81176471 0.69803922]\n",
            "   ...\n",
            "   [0.67058824 0.67843137 0.66666667]\n",
            "   [0.57254902 0.58039216 0.56862745]\n",
            "   [0.53333333 0.54117647 0.52941176]]\n",
            "\n",
            "  [[0.84705882 0.71764706 0.60392157]\n",
            "   [0.89411765 0.76862745 0.65490196]\n",
            "   [0.94117647 0.81568627 0.70196078]\n",
            "   ...\n",
            "   [0.55294118 0.56078431 0.54901961]\n",
            "   [0.52156863 0.52941176 0.51764706]\n",
            "   [0.57647059 0.58431373 0.57254902]]\n",
            "\n",
            "  ...\n",
            "\n",
            "  [[0.65882353 0.67058824 0.65882353]\n",
            "   [0.58823529 0.60392157 0.58431373]\n",
            "   [0.53333333 0.55294118 0.5254902 ]\n",
            "   ...\n",
            "   [0.03137255 0.0627451  0.0745098 ]\n",
            "   [0.10196078 0.17254902 0.23137255]\n",
            "   [0.16470588 0.27058824 0.36470588]]\n",
            "\n",
            "  [[0.48235294 0.49411765 0.49019608]\n",
            "   [0.29019608 0.31372549 0.30196078]\n",
            "   [0.32941176 0.36862745 0.34117647]\n",
            "   ...\n",
            "   [0.03137255 0.0745098  0.10196078]\n",
            "   [0.11764706 0.2        0.26666667]\n",
            "   [0.18431373 0.29411765 0.39215686]]\n",
            "\n",
            "  [[0.3372549  0.34509804 0.35294118]\n",
            "   [0.14509804 0.17647059 0.19215686]\n",
            "   [0.17647059 0.22352941 0.24705882]\n",
            "   ...\n",
            "   [0.05490196 0.10980392 0.16862745]\n",
            "   [0.16078431 0.25098039 0.34509804]\n",
            "   [0.18823529 0.29803922 0.41568627]]]\n",
            "\n",
            "\n",
            " [[[1.         1.         1.        ]\n",
            "   [1.         1.         1.        ]\n",
            "   [1.         1.         1.        ]\n",
            "   ...\n",
            "   [1.         1.         1.        ]\n",
            "   [1.         1.         1.        ]\n",
            "   [1.         0.99607843 1.        ]]\n",
            "\n",
            "  [[1.         1.         1.        ]\n",
            "   [1.         1.         1.        ]\n",
            "   [1.         1.         1.        ]\n",
            "   ...\n",
            "   [1.         1.         1.        ]\n",
            "   [1.         1.         1.        ]\n",
            "   [1.         1.         1.        ]]\n",
            "\n",
            "  [[1.         1.         1.        ]\n",
            "   [1.         1.         1.        ]\n",
            "   [1.         1.         1.        ]\n",
            "   ...\n",
            "   [1.         1.         1.        ]\n",
            "   [0.99607843 1.         1.        ]\n",
            "   [0.99215686 1.         1.        ]]\n",
            "\n",
            "  ...\n",
            "\n",
            "  [[0.88235294 0.8745098  0.88235294]\n",
            "   [0.84313725 0.84313725 0.84705882]\n",
            "   [0.75294118 0.76078431 0.76470588]\n",
            "   ...\n",
            "   [0.80392157 0.84705882 0.82745098]\n",
            "   [0.81176471 0.84705882 0.84313725]\n",
            "   [0.86666667 0.88627451 0.89803922]]\n",
            "\n",
            "  [[0.87058824 0.87058824 0.8627451 ]\n",
            "   [0.84705882 0.85098039 0.84313725]\n",
            "   [0.8        0.81568627 0.80392157]\n",
            "   ...\n",
            "   [0.81568627 0.85882353 0.83921569]\n",
            "   [0.83529412 0.8745098  0.86666667]\n",
            "   [0.88627451 0.90588235 0.92156863]]\n",
            "\n",
            "  [[0.8745098  0.8745098  0.85882353]\n",
            "   [0.86666667 0.8745098  0.85490196]\n",
            "   [0.84705882 0.8627451  0.83921569]\n",
            "   ...\n",
            "   [0.80784314 0.84705882 0.83137255]\n",
            "   [0.83137255 0.8627451  0.85882353]\n",
            "   [0.85882353 0.87843137 0.88627451]]]\n",
            "\n",
            "\n",
            " [[[0.70196078 0.7254902  0.77647059]\n",
            "   [0.68627451 0.70980392 0.76078431]\n",
            "   [0.71764706 0.74117647 0.78823529]\n",
            "   ...\n",
            "   [0.75686275 0.84705882 0.91372549]\n",
            "   [0.76078431 0.83137255 0.89019608]\n",
            "   [0.78823529 0.83921569 0.87843137]]\n",
            "\n",
            "  [[0.69411765 0.74117647 0.80784314]\n",
            "   [0.69019608 0.72156863 0.77647059]\n",
            "   [0.71764706 0.7372549  0.78039216]\n",
            "   ...\n",
            "   [0.79215686 0.86666667 0.92156863]\n",
            "   [0.76862745 0.83529412 0.89019608]\n",
            "   [0.76862745 0.82745098 0.87058824]]\n",
            "\n",
            "  [[0.67843137 0.74117647 0.82745098]\n",
            "   [0.70196078 0.7372549  0.8       ]\n",
            "   [0.70196078 0.71764706 0.76078431]\n",
            "   ...\n",
            "   [0.84705882 0.90196078 0.94901961]\n",
            "   [0.8        0.85490196 0.90588235]\n",
            "   [0.77647059 0.83921569 0.89019608]]\n",
            "\n",
            "  ...\n",
            "\n",
            "  [[0.15294118 0.17254902 0.14901961]\n",
            "   [0.17254902 0.18039216 0.14117647]\n",
            "   [0.18823529 0.18823529 0.14117647]\n",
            "   ...\n",
            "   [0.04705882 0.05098039 0.03137255]\n",
            "   [0.09411765 0.09019608 0.07058824]\n",
            "   [0.2        0.18823529 0.17254902]]\n",
            "\n",
            "  [[0.15686275 0.16862745 0.14509804]\n",
            "   [0.19215686 0.19215686 0.16470588]\n",
            "   [0.24313725 0.23529412 0.2       ]\n",
            "   ...\n",
            "   [0.04705882 0.05098039 0.03529412]\n",
            "   [0.05098039 0.04705882 0.02745098]\n",
            "   [0.18039216 0.16078431 0.13333333]]\n",
            "\n",
            "  [[0.14901961 0.14901961 0.12941176]\n",
            "   [0.15686275 0.1372549  0.12156863]\n",
            "   [0.17647059 0.14901961 0.13333333]\n",
            "   ...\n",
            "   [0.05098039 0.04313725 0.03921569]\n",
            "   [0.07843137 0.0627451  0.03921569]\n",
            "   [0.16078431 0.13333333 0.09019608]]]]\n"
          ]
        }
      ]
    },
    {
      "cell_type": "markdown",
      "source": [
        "**Building Neural Network**"
      ],
      "metadata": {
        "id": "jC4pK1bcGIp1"
      }
    },
    {
      "cell_type": "code",
      "source": [
        "# importing libraries\n",
        "import tensorflow as tf\n",
        "# Keras is also used for distributed training of deep learning models\n",
        "from tensorflow import keras"
      ],
      "metadata": {
        "id": "K397yeWsALTk"
      },
      "execution_count": 71,
      "outputs": []
    },
    {
      "cell_type": "code",
      "source": [
        "num_of_classes = 10\n",
        "\n",
        "# setting up the layers of Neural Network\n",
        "# A Sequential model is appropriate for a plain stack of \n",
        "# layers where each layer has exactly one input tensor and one output tensor\n",
        "\n",
        "# provides inbuilt modules for all neural network computations\n",
        "model = keras.Sequential([\n",
        "    \n",
        "    # keras.flatten converts the multi-dimensional arrays into \n",
        "    # flattened one-dimensional arrays or single-dimensional arrays\n",
        "    keras.layers.Flatten(input_shape=(32,32,3)),  # Input Layer\n",
        "    \n",
        "# Keras Dense layer is the layer that contains all the neurons that are deeply connected within themselves\n",
        "# Relu remove every negative value from the filtered image and replace it with zero.\n",
        "    keras.layers.Dense(128, activation='relu'),   # Hidden Layer\n",
        "\n",
        "# The softmax function is used as the activation function in the output layer of \n",
        "# neural network models that predict a multinomial probability distribution.\n",
        "    keras.layers.Dense(num_of_classes, activation='softmax')    # Output Layer\n",
        "])"
      ],
      "metadata": {
        "id": "hbnWa9i4ALXE"
      },
      "execution_count": 72,
      "outputs": []
    },
    {
      "cell_type": "code",
      "source": [
        "# compile the neural network\n",
        "\n",
        "# compilation is a step that transforms the simple sequence of layers \n",
        "# that we previously defined into a highly efficient series of matrix transformations\n",
        "\n",
        "# Optimizer it helps in reducing the overall loss and improving accuracy.\n",
        "\n",
        "# Adam optimization is a stochastic gradient descent method that is based on \n",
        "# adaptive estimation of first-order and second-order moments.\n",
        "\n",
        "# sparse_categarical_cross. when each sample belongs exactly to one \n",
        "# categorical crossentropy when one sample can have multiple classes or labels are \n",
        "\n",
        "# soft probabilities (like [0.5, 0.3, 0.2]).\n",
        "model.compile(optimizer='adam',\n",
        "              loss='sparse_categorical_crossentropy',\n",
        "              metrics=['acc'])"
      ],
      "metadata": {
        "id": "a1SbHfOYALZ4"
      },
      "execution_count": 73,
      "outputs": []
    },
    {
      "cell_type": "code",
      "source": [
        "# training the neural network\n",
        "\n",
        "# validation_split is Fraction of the training data to be used as validation data\n",
        "# Epoch is the total number of iterations of the training data in one cycle\n",
        "model.fit(X_train_scaled, Y_train, validation_split=0.1, epochs=10)"
      ],
      "metadata": {
        "colab": {
          "base_uri": "https://localhost:8080/",
          "height": 0
        },
        "id": "Clyi7WAiALdO",
        "outputId": "fd390737-e714-46ad-9997-641aac0f9135"
      },
      "execution_count": 74,
      "outputs": [
        {
          "output_type": "stream",
          "name": "stdout",
          "text": [
            "Epoch 1/10\n",
            "1125/1125 [==============================] - 9s 3ms/step - loss: 1.9635 - acc: 0.2928 - val_loss: 1.8701 - val_acc: 0.3133\n",
            "Epoch 2/10\n",
            "1125/1125 [==============================] - 7s 6ms/step - loss: 1.8078 - acc: 0.3544 - val_loss: 1.7806 - val_acc: 0.3565\n",
            "Epoch 3/10\n",
            "1125/1125 [==============================] - 6s 5ms/step - loss: 1.7570 - acc: 0.3744 - val_loss: 1.7897 - val_acc: 0.3607\n",
            "Epoch 4/10\n",
            "1125/1125 [==============================] - 5s 5ms/step - loss: 1.7302 - acc: 0.3809 - val_loss: 1.6856 - val_acc: 0.3915\n",
            "Epoch 5/10\n",
            "1125/1125 [==============================] - 6s 5ms/step - loss: 1.7117 - acc: 0.3901 - val_loss: 1.7028 - val_acc: 0.3808\n",
            "Epoch 6/10\n",
            "1125/1125 [==============================] - 3s 3ms/step - loss: 1.6956 - acc: 0.3991 - val_loss: 1.6820 - val_acc: 0.3930\n",
            "Epoch 7/10\n",
            "1125/1125 [==============================] - 3s 3ms/step - loss: 1.6835 - acc: 0.3990 - val_loss: 1.7306 - val_acc: 0.3815\n",
            "Epoch 8/10\n",
            "1125/1125 [==============================] - 4s 3ms/step - loss: 1.6737 - acc: 0.4088 - val_loss: 1.6534 - val_acc: 0.4083\n",
            "Epoch 9/10\n",
            "1125/1125 [==============================] - 4s 4ms/step - loss: 1.6611 - acc: 0.4092 - val_loss: 1.6502 - val_acc: 0.4078\n",
            "Epoch 10/10\n",
            "1125/1125 [==============================] - 3s 3ms/step - loss: 1.6483 - acc: 0.4128 - val_loss: 1.6671 - val_acc: 0.3943\n"
          ]
        },
        {
          "output_type": "execute_result",
          "data": {
            "text/plain": [
              "<keras.callbacks.History at 0x7fa78008c9a0>"
            ]
          },
          "metadata": {},
          "execution_count": 74
        }
      ]
    },
    {
      "cell_type": "markdown",
      "source": [
        "**ResNet-50**"
      ],
      "metadata": {
        "id": "tt26_aYLS5gz"
      }
    },
    {
      "cell_type": "code",
      "source": [
        "# ResNet-50\n",
        "# importing libraries to use one of cnn model ResNet-50 to predict image \n",
        "\n",
        "from tensorflow.keras import Sequential, models, layers\n",
        "from tensorflow.keras.layers import Dense, Dropout, Flatten\n",
        "from tensorflow.keras.layers import BatchNormalization\n",
        "from tensorflow.keras.models import load_model\n",
        "from tensorflow.keras.models import Model\n",
        "from tensorflow.keras.applications.resnet50 import ResNet50 # the ccn model we will use \n",
        "from tensorflow.keras import optimizers"
      ],
      "metadata": {
        "id": "A1EFerkLInS2"
      },
      "execution_count": 75,
      "outputs": []
    },
    {
      "cell_type": "code",
      "source": [
        "# parameter -1\n",
        "# The ImageNet project is a large visual database designed for use in visual object recognition software research.\n",
        "# More than 14 million images have been hand-annotated by the project to indicate what \n",
        "# objects are pictured and in at least one million of the images, bounding boxes are also provided.\n",
        "\n",
        "# parameter -2\n",
        "# include_top = false means in imagenet we have thousand of class but need only 10, so we use own output layer\n",
        "# in imagenet out class of image is also included.\n",
        "\n",
        "#parameter -3\n",
        "# input_shape the pixel of input image imagenet have image in that dimension on e.g (256,256,3)\n",
        "# but our image dimension is (32,32,3).\n",
        "convolutional_base = ResNet50(weights='imagenet', include_top=False, input_shape=(256,256,3))\n",
        "convolutional_base.summary() # this show the different layer the model have."
      ],
      "metadata": {
        "colab": {
          "base_uri": "https://localhost:8080/",
          "height": 0
        },
        "id": "S1GuSHZSInV-",
        "outputId": "f609c552-addb-4ef9-ae43-0e43be62272a"
      },
      "execution_count": 76,
      "outputs": [
        {
          "output_type": "stream",
          "name": "stdout",
          "text": [
            "Downloading data from https://storage.googleapis.com/tensorflow/keras-applications/resnet/resnet50_weights_tf_dim_ordering_tf_kernels_notop.h5\n",
            "94765736/94765736 [==============================] - 5s 0us/step\n",
            "Model: \"resnet50\"\n",
            "__________________________________________________________________________________________________\n",
            " Layer (type)                   Output Shape         Param #     Connected to                     \n",
            "==================================================================================================\n",
            " input_1 (InputLayer)           [(None, 256, 256, 3  0           []                               \n",
            "                                )]                                                                \n",
            "                                                                                                  \n",
            " conv1_pad (ZeroPadding2D)      (None, 262, 262, 3)  0           ['input_1[0][0]']                \n",
            "                                                                                                  \n",
            " conv1_conv (Conv2D)            (None, 128, 128, 64  9472        ['conv1_pad[0][0]']              \n",
            "                                )                                                                 \n",
            "                                                                                                  \n",
            " conv1_bn (BatchNormalization)  (None, 128, 128, 64  256         ['conv1_conv[0][0]']             \n",
            "                                )                                                                 \n",
            "                                                                                                  \n",
            " conv1_relu (Activation)        (None, 128, 128, 64  0           ['conv1_bn[0][0]']               \n",
            "                                )                                                                 \n",
            "                                                                                                  \n",
            " pool1_pad (ZeroPadding2D)      (None, 130, 130, 64  0           ['conv1_relu[0][0]']             \n",
            "                                )                                                                 \n",
            "                                                                                                  \n",
            " pool1_pool (MaxPooling2D)      (None, 64, 64, 64)   0           ['pool1_pad[0][0]']              \n",
            "                                                                                                  \n",
            " conv2_block1_1_conv (Conv2D)   (None, 64, 64, 64)   4160        ['pool1_pool[0][0]']             \n",
            "                                                                                                  \n",
            " conv2_block1_1_bn (BatchNormal  (None, 64, 64, 64)  256         ['conv2_block1_1_conv[0][0]']    \n",
            " ization)                                                                                         \n",
            "                                                                                                  \n",
            " conv2_block1_1_relu (Activatio  (None, 64, 64, 64)  0           ['conv2_block1_1_bn[0][0]']      \n",
            " n)                                                                                               \n",
            "                                                                                                  \n",
            " conv2_block1_2_conv (Conv2D)   (None, 64, 64, 64)   36928       ['conv2_block1_1_relu[0][0]']    \n",
            "                                                                                                  \n",
            " conv2_block1_2_bn (BatchNormal  (None, 64, 64, 64)  256         ['conv2_block1_2_conv[0][0]']    \n",
            " ization)                                                                                         \n",
            "                                                                                                  \n",
            " conv2_block1_2_relu (Activatio  (None, 64, 64, 64)  0           ['conv2_block1_2_bn[0][0]']      \n",
            " n)                                                                                               \n",
            "                                                                                                  \n",
            " conv2_block1_0_conv (Conv2D)   (None, 64, 64, 256)  16640       ['pool1_pool[0][0]']             \n",
            "                                                                                                  \n",
            " conv2_block1_3_conv (Conv2D)   (None, 64, 64, 256)  16640       ['conv2_block1_2_relu[0][0]']    \n",
            "                                                                                                  \n",
            " conv2_block1_0_bn (BatchNormal  (None, 64, 64, 256)  1024       ['conv2_block1_0_conv[0][0]']    \n",
            " ization)                                                                                         \n",
            "                                                                                                  \n",
            " conv2_block1_3_bn (BatchNormal  (None, 64, 64, 256)  1024       ['conv2_block1_3_conv[0][0]']    \n",
            " ization)                                                                                         \n",
            "                                                                                                  \n",
            " conv2_block1_add (Add)         (None, 64, 64, 256)  0           ['conv2_block1_0_bn[0][0]',      \n",
            "                                                                  'conv2_block1_3_bn[0][0]']      \n",
            "                                                                                                  \n",
            " conv2_block1_out (Activation)  (None, 64, 64, 256)  0           ['conv2_block1_add[0][0]']       \n",
            "                                                                                                  \n",
            " conv2_block2_1_conv (Conv2D)   (None, 64, 64, 64)   16448       ['conv2_block1_out[0][0]']       \n",
            "                                                                                                  \n",
            " conv2_block2_1_bn (BatchNormal  (None, 64, 64, 64)  256         ['conv2_block2_1_conv[0][0]']    \n",
            " ization)                                                                                         \n",
            "                                                                                                  \n",
            " conv2_block2_1_relu (Activatio  (None, 64, 64, 64)  0           ['conv2_block2_1_bn[0][0]']      \n",
            " n)                                                                                               \n",
            "                                                                                                  \n",
            " conv2_block2_2_conv (Conv2D)   (None, 64, 64, 64)   36928       ['conv2_block2_1_relu[0][0]']    \n",
            "                                                                                                  \n",
            " conv2_block2_2_bn (BatchNormal  (None, 64, 64, 64)  256         ['conv2_block2_2_conv[0][0]']    \n",
            " ization)                                                                                         \n",
            "                                                                                                  \n",
            " conv2_block2_2_relu (Activatio  (None, 64, 64, 64)  0           ['conv2_block2_2_bn[0][0]']      \n",
            " n)                                                                                               \n",
            "                                                                                                  \n",
            " conv2_block2_3_conv (Conv2D)   (None, 64, 64, 256)  16640       ['conv2_block2_2_relu[0][0]']    \n",
            "                                                                                                  \n",
            " conv2_block2_3_bn (BatchNormal  (None, 64, 64, 256)  1024       ['conv2_block2_3_conv[0][0]']    \n",
            " ization)                                                                                         \n",
            "                                                                                                  \n",
            " conv2_block2_add (Add)         (None, 64, 64, 256)  0           ['conv2_block1_out[0][0]',       \n",
            "                                                                  'conv2_block2_3_bn[0][0]']      \n",
            "                                                                                                  \n",
            " conv2_block2_out (Activation)  (None, 64, 64, 256)  0           ['conv2_block2_add[0][0]']       \n",
            "                                                                                                  \n",
            " conv2_block3_1_conv (Conv2D)   (None, 64, 64, 64)   16448       ['conv2_block2_out[0][0]']       \n",
            "                                                                                                  \n",
            " conv2_block3_1_bn (BatchNormal  (None, 64, 64, 64)  256         ['conv2_block3_1_conv[0][0]']    \n",
            " ization)                                                                                         \n",
            "                                                                                                  \n",
            " conv2_block3_1_relu (Activatio  (None, 64, 64, 64)  0           ['conv2_block3_1_bn[0][0]']      \n",
            " n)                                                                                               \n",
            "                                                                                                  \n",
            " conv2_block3_2_conv (Conv2D)   (None, 64, 64, 64)   36928       ['conv2_block3_1_relu[0][0]']    \n",
            "                                                                                                  \n",
            " conv2_block3_2_bn (BatchNormal  (None, 64, 64, 64)  256         ['conv2_block3_2_conv[0][0]']    \n",
            " ization)                                                                                         \n",
            "                                                                                                  \n",
            " conv2_block3_2_relu (Activatio  (None, 64, 64, 64)  0           ['conv2_block3_2_bn[0][0]']      \n",
            " n)                                                                                               \n",
            "                                                                                                  \n",
            " conv2_block3_3_conv (Conv2D)   (None, 64, 64, 256)  16640       ['conv2_block3_2_relu[0][0]']    \n",
            "                                                                                                  \n",
            " conv2_block3_3_bn (BatchNormal  (None, 64, 64, 256)  1024       ['conv2_block3_3_conv[0][0]']    \n",
            " ization)                                                                                         \n",
            "                                                                                                  \n",
            " conv2_block3_add (Add)         (None, 64, 64, 256)  0           ['conv2_block2_out[0][0]',       \n",
            "                                                                  'conv2_block3_3_bn[0][0]']      \n",
            "                                                                                                  \n",
            " conv2_block3_out (Activation)  (None, 64, 64, 256)  0           ['conv2_block3_add[0][0]']       \n",
            "                                                                                                  \n",
            " conv3_block1_1_conv (Conv2D)   (None, 32, 32, 128)  32896       ['conv2_block3_out[0][0]']       \n",
            "                                                                                                  \n",
            " conv3_block1_1_bn (BatchNormal  (None, 32, 32, 128)  512        ['conv3_block1_1_conv[0][0]']    \n",
            " ization)                                                                                         \n",
            "                                                                                                  \n",
            " conv3_block1_1_relu (Activatio  (None, 32, 32, 128)  0          ['conv3_block1_1_bn[0][0]']      \n",
            " n)                                                                                               \n",
            "                                                                                                  \n",
            " conv3_block1_2_conv (Conv2D)   (None, 32, 32, 128)  147584      ['conv3_block1_1_relu[0][0]']    \n",
            "                                                                                                  \n",
            " conv3_block1_2_bn (BatchNormal  (None, 32, 32, 128)  512        ['conv3_block1_2_conv[0][0]']    \n",
            " ization)                                                                                         \n",
            "                                                                                                  \n",
            " conv3_block1_2_relu (Activatio  (None, 32, 32, 128)  0          ['conv3_block1_2_bn[0][0]']      \n",
            " n)                                                                                               \n",
            "                                                                                                  \n",
            " conv3_block1_0_conv (Conv2D)   (None, 32, 32, 512)  131584      ['conv2_block3_out[0][0]']       \n",
            "                                                                                                  \n",
            " conv3_block1_3_conv (Conv2D)   (None, 32, 32, 512)  66048       ['conv3_block1_2_relu[0][0]']    \n",
            "                                                                                                  \n",
            " conv3_block1_0_bn (BatchNormal  (None, 32, 32, 512)  2048       ['conv3_block1_0_conv[0][0]']    \n",
            " ization)                                                                                         \n",
            "                                                                                                  \n",
            " conv3_block1_3_bn (BatchNormal  (None, 32, 32, 512)  2048       ['conv3_block1_3_conv[0][0]']    \n",
            " ization)                                                                                         \n",
            "                                                                                                  \n",
            " conv3_block1_add (Add)         (None, 32, 32, 512)  0           ['conv3_block1_0_bn[0][0]',      \n",
            "                                                                  'conv3_block1_3_bn[0][0]']      \n",
            "                                                                                                  \n",
            " conv3_block1_out (Activation)  (None, 32, 32, 512)  0           ['conv3_block1_add[0][0]']       \n",
            "                                                                                                  \n",
            " conv3_block2_1_conv (Conv2D)   (None, 32, 32, 128)  65664       ['conv3_block1_out[0][0]']       \n",
            "                                                                                                  \n",
            " conv3_block2_1_bn (BatchNormal  (None, 32, 32, 128)  512        ['conv3_block2_1_conv[0][0]']    \n",
            " ization)                                                                                         \n",
            "                                                                                                  \n",
            " conv3_block2_1_relu (Activatio  (None, 32, 32, 128)  0          ['conv3_block2_1_bn[0][0]']      \n",
            " n)                                                                                               \n",
            "                                                                                                  \n",
            " conv3_block2_2_conv (Conv2D)   (None, 32, 32, 128)  147584      ['conv3_block2_1_relu[0][0]']    \n",
            "                                                                                                  \n",
            " conv3_block2_2_bn (BatchNormal  (None, 32, 32, 128)  512        ['conv3_block2_2_conv[0][0]']    \n",
            " ization)                                                                                         \n",
            "                                                                                                  \n",
            " conv3_block2_2_relu (Activatio  (None, 32, 32, 128)  0          ['conv3_block2_2_bn[0][0]']      \n",
            " n)                                                                                               \n",
            "                                                                                                  \n",
            " conv3_block2_3_conv (Conv2D)   (None, 32, 32, 512)  66048       ['conv3_block2_2_relu[0][0]']    \n",
            "                                                                                                  \n",
            " conv3_block2_3_bn (BatchNormal  (None, 32, 32, 512)  2048       ['conv3_block2_3_conv[0][0]']    \n",
            " ization)                                                                                         \n",
            "                                                                                                  \n",
            " conv3_block2_add (Add)         (None, 32, 32, 512)  0           ['conv3_block1_out[0][0]',       \n",
            "                                                                  'conv3_block2_3_bn[0][0]']      \n",
            "                                                                                                  \n",
            " conv3_block2_out (Activation)  (None, 32, 32, 512)  0           ['conv3_block2_add[0][0]']       \n",
            "                                                                                                  \n",
            " conv3_block3_1_conv (Conv2D)   (None, 32, 32, 128)  65664       ['conv3_block2_out[0][0]']       \n",
            "                                                                                                  \n",
            " conv3_block3_1_bn (BatchNormal  (None, 32, 32, 128)  512        ['conv3_block3_1_conv[0][0]']    \n",
            " ization)                                                                                         \n",
            "                                                                                                  \n",
            " conv3_block3_1_relu (Activatio  (None, 32, 32, 128)  0          ['conv3_block3_1_bn[0][0]']      \n",
            " n)                                                                                               \n",
            "                                                                                                  \n",
            " conv3_block3_2_conv (Conv2D)   (None, 32, 32, 128)  147584      ['conv3_block3_1_relu[0][0]']    \n",
            "                                                                                                  \n",
            " conv3_block3_2_bn (BatchNormal  (None, 32, 32, 128)  512        ['conv3_block3_2_conv[0][0]']    \n",
            " ization)                                                                                         \n",
            "                                                                                                  \n",
            " conv3_block3_2_relu (Activatio  (None, 32, 32, 128)  0          ['conv3_block3_2_bn[0][0]']      \n",
            " n)                                                                                               \n",
            "                                                                                                  \n",
            " conv3_block3_3_conv (Conv2D)   (None, 32, 32, 512)  66048       ['conv3_block3_2_relu[0][0]']    \n",
            "                                                                                                  \n",
            " conv3_block3_3_bn (BatchNormal  (None, 32, 32, 512)  2048       ['conv3_block3_3_conv[0][0]']    \n",
            " ization)                                                                                         \n",
            "                                                                                                  \n",
            " conv3_block3_add (Add)         (None, 32, 32, 512)  0           ['conv3_block2_out[0][0]',       \n",
            "                                                                  'conv3_block3_3_bn[0][0]']      \n",
            "                                                                                                  \n",
            " conv3_block3_out (Activation)  (None, 32, 32, 512)  0           ['conv3_block3_add[0][0]']       \n",
            "                                                                                                  \n",
            " conv3_block4_1_conv (Conv2D)   (None, 32, 32, 128)  65664       ['conv3_block3_out[0][0]']       \n",
            "                                                                                                  \n",
            " conv3_block4_1_bn (BatchNormal  (None, 32, 32, 128)  512        ['conv3_block4_1_conv[0][0]']    \n",
            " ization)                                                                                         \n",
            "                                                                                                  \n",
            " conv3_block4_1_relu (Activatio  (None, 32, 32, 128)  0          ['conv3_block4_1_bn[0][0]']      \n",
            " n)                                                                                               \n",
            "                                                                                                  \n",
            " conv3_block4_2_conv (Conv2D)   (None, 32, 32, 128)  147584      ['conv3_block4_1_relu[0][0]']    \n",
            "                                                                                                  \n",
            " conv3_block4_2_bn (BatchNormal  (None, 32, 32, 128)  512        ['conv3_block4_2_conv[0][0]']    \n",
            " ization)                                                                                         \n",
            "                                                                                                  \n",
            " conv3_block4_2_relu (Activatio  (None, 32, 32, 128)  0          ['conv3_block4_2_bn[0][0]']      \n",
            " n)                                                                                               \n",
            "                                                                                                  \n",
            " conv3_block4_3_conv (Conv2D)   (None, 32, 32, 512)  66048       ['conv3_block4_2_relu[0][0]']    \n",
            "                                                                                                  \n",
            " conv3_block4_3_bn (BatchNormal  (None, 32, 32, 512)  2048       ['conv3_block4_3_conv[0][0]']    \n",
            " ization)                                                                                         \n",
            "                                                                                                  \n",
            " conv3_block4_add (Add)         (None, 32, 32, 512)  0           ['conv3_block3_out[0][0]',       \n",
            "                                                                  'conv3_block4_3_bn[0][0]']      \n",
            "                                                                                                  \n",
            " conv3_block4_out (Activation)  (None, 32, 32, 512)  0           ['conv3_block4_add[0][0]']       \n",
            "                                                                                                  \n",
            " conv4_block1_1_conv (Conv2D)   (None, 16, 16, 256)  131328      ['conv3_block4_out[0][0]']       \n",
            "                                                                                                  \n",
            " conv4_block1_1_bn (BatchNormal  (None, 16, 16, 256)  1024       ['conv4_block1_1_conv[0][0]']    \n",
            " ization)                                                                                         \n",
            "                                                                                                  \n",
            " conv4_block1_1_relu (Activatio  (None, 16, 16, 256)  0          ['conv4_block1_1_bn[0][0]']      \n",
            " n)                                                                                               \n",
            "                                                                                                  \n",
            " conv4_block1_2_conv (Conv2D)   (None, 16, 16, 256)  590080      ['conv4_block1_1_relu[0][0]']    \n",
            "                                                                                                  \n",
            " conv4_block1_2_bn (BatchNormal  (None, 16, 16, 256)  1024       ['conv4_block1_2_conv[0][0]']    \n",
            " ization)                                                                                         \n",
            "                                                                                                  \n",
            " conv4_block1_2_relu (Activatio  (None, 16, 16, 256)  0          ['conv4_block1_2_bn[0][0]']      \n",
            " n)                                                                                               \n",
            "                                                                                                  \n",
            " conv4_block1_0_conv (Conv2D)   (None, 16, 16, 1024  525312      ['conv3_block4_out[0][0]']       \n",
            "                                )                                                                 \n",
            "                                                                                                  \n",
            " conv4_block1_3_conv (Conv2D)   (None, 16, 16, 1024  263168      ['conv4_block1_2_relu[0][0]']    \n",
            "                                )                                                                 \n",
            "                                                                                                  \n",
            " conv4_block1_0_bn (BatchNormal  (None, 16, 16, 1024  4096       ['conv4_block1_0_conv[0][0]']    \n",
            " ization)                       )                                                                 \n",
            "                                                                                                  \n",
            " conv4_block1_3_bn (BatchNormal  (None, 16, 16, 1024  4096       ['conv4_block1_3_conv[0][0]']    \n",
            " ization)                       )                                                                 \n",
            "                                                                                                  \n",
            " conv4_block1_add (Add)         (None, 16, 16, 1024  0           ['conv4_block1_0_bn[0][0]',      \n",
            "                                )                                 'conv4_block1_3_bn[0][0]']      \n",
            "                                                                                                  \n",
            " conv4_block1_out (Activation)  (None, 16, 16, 1024  0           ['conv4_block1_add[0][0]']       \n",
            "                                )                                                                 \n",
            "                                                                                                  \n",
            " conv4_block2_1_conv (Conv2D)   (None, 16, 16, 256)  262400      ['conv4_block1_out[0][0]']       \n",
            "                                                                                                  \n",
            " conv4_block2_1_bn (BatchNormal  (None, 16, 16, 256)  1024       ['conv4_block2_1_conv[0][0]']    \n",
            " ization)                                                                                         \n",
            "                                                                                                  \n",
            " conv4_block2_1_relu (Activatio  (None, 16, 16, 256)  0          ['conv4_block2_1_bn[0][0]']      \n",
            " n)                                                                                               \n",
            "                                                                                                  \n",
            " conv4_block2_2_conv (Conv2D)   (None, 16, 16, 256)  590080      ['conv4_block2_1_relu[0][0]']    \n",
            "                                                                                                  \n",
            " conv4_block2_2_bn (BatchNormal  (None, 16, 16, 256)  1024       ['conv4_block2_2_conv[0][0]']    \n",
            " ization)                                                                                         \n",
            "                                                                                                  \n",
            " conv4_block2_2_relu (Activatio  (None, 16, 16, 256)  0          ['conv4_block2_2_bn[0][0]']      \n",
            " n)                                                                                               \n",
            "                                                                                                  \n",
            " conv4_block2_3_conv (Conv2D)   (None, 16, 16, 1024  263168      ['conv4_block2_2_relu[0][0]']    \n",
            "                                )                                                                 \n",
            "                                                                                                  \n",
            " conv4_block2_3_bn (BatchNormal  (None, 16, 16, 1024  4096       ['conv4_block2_3_conv[0][0]']    \n",
            " ization)                       )                                                                 \n",
            "                                                                                                  \n",
            " conv4_block2_add (Add)         (None, 16, 16, 1024  0           ['conv4_block1_out[0][0]',       \n",
            "                                )                                 'conv4_block2_3_bn[0][0]']      \n",
            "                                                                                                  \n",
            " conv4_block2_out (Activation)  (None, 16, 16, 1024  0           ['conv4_block2_add[0][0]']       \n",
            "                                )                                                                 \n",
            "                                                                                                  \n",
            " conv4_block3_1_conv (Conv2D)   (None, 16, 16, 256)  262400      ['conv4_block2_out[0][0]']       \n",
            "                                                                                                  \n",
            " conv4_block3_1_bn (BatchNormal  (None, 16, 16, 256)  1024       ['conv4_block3_1_conv[0][0]']    \n",
            " ization)                                                                                         \n",
            "                                                                                                  \n",
            " conv4_block3_1_relu (Activatio  (None, 16, 16, 256)  0          ['conv4_block3_1_bn[0][0]']      \n",
            " n)                                                                                               \n",
            "                                                                                                  \n",
            " conv4_block3_2_conv (Conv2D)   (None, 16, 16, 256)  590080      ['conv4_block3_1_relu[0][0]']    \n",
            "                                                                                                  \n",
            " conv4_block3_2_bn (BatchNormal  (None, 16, 16, 256)  1024       ['conv4_block3_2_conv[0][0]']    \n",
            " ization)                                                                                         \n",
            "                                                                                                  \n",
            " conv4_block3_2_relu (Activatio  (None, 16, 16, 256)  0          ['conv4_block3_2_bn[0][0]']      \n",
            " n)                                                                                               \n",
            "                                                                                                  \n",
            " conv4_block3_3_conv (Conv2D)   (None, 16, 16, 1024  263168      ['conv4_block3_2_relu[0][0]']    \n",
            "                                )                                                                 \n",
            "                                                                                                  \n",
            " conv4_block3_3_bn (BatchNormal  (None, 16, 16, 1024  4096       ['conv4_block3_3_conv[0][0]']    \n",
            " ization)                       )                                                                 \n",
            "                                                                                                  \n",
            " conv4_block3_add (Add)         (None, 16, 16, 1024  0           ['conv4_block2_out[0][0]',       \n",
            "                                )                                 'conv4_block3_3_bn[0][0]']      \n",
            "                                                                                                  \n",
            " conv4_block3_out (Activation)  (None, 16, 16, 1024  0           ['conv4_block3_add[0][0]']       \n",
            "                                )                                                                 \n",
            "                                                                                                  \n",
            " conv4_block4_1_conv (Conv2D)   (None, 16, 16, 256)  262400      ['conv4_block3_out[0][0]']       \n",
            "                                                                                                  \n",
            " conv4_block4_1_bn (BatchNormal  (None, 16, 16, 256)  1024       ['conv4_block4_1_conv[0][0]']    \n",
            " ization)                                                                                         \n",
            "                                                                                                  \n",
            " conv4_block4_1_relu (Activatio  (None, 16, 16, 256)  0          ['conv4_block4_1_bn[0][0]']      \n",
            " n)                                                                                               \n",
            "                                                                                                  \n",
            " conv4_block4_2_conv (Conv2D)   (None, 16, 16, 256)  590080      ['conv4_block4_1_relu[0][0]']    \n",
            "                                                                                                  \n",
            " conv4_block4_2_bn (BatchNormal  (None, 16, 16, 256)  1024       ['conv4_block4_2_conv[0][0]']    \n",
            " ization)                                                                                         \n",
            "                                                                                                  \n",
            " conv4_block4_2_relu (Activatio  (None, 16, 16, 256)  0          ['conv4_block4_2_bn[0][0]']      \n",
            " n)                                                                                               \n",
            "                                                                                                  \n",
            " conv4_block4_3_conv (Conv2D)   (None, 16, 16, 1024  263168      ['conv4_block4_2_relu[0][0]']    \n",
            "                                )                                                                 \n",
            "                                                                                                  \n",
            " conv4_block4_3_bn (BatchNormal  (None, 16, 16, 1024  4096       ['conv4_block4_3_conv[0][0]']    \n",
            " ization)                       )                                                                 \n",
            "                                                                                                  \n",
            " conv4_block4_add (Add)         (None, 16, 16, 1024  0           ['conv4_block3_out[0][0]',       \n",
            "                                )                                 'conv4_block4_3_bn[0][0]']      \n",
            "                                                                                                  \n",
            " conv4_block4_out (Activation)  (None, 16, 16, 1024  0           ['conv4_block4_add[0][0]']       \n",
            "                                )                                                                 \n",
            "                                                                                                  \n",
            " conv4_block5_1_conv (Conv2D)   (None, 16, 16, 256)  262400      ['conv4_block4_out[0][0]']       \n",
            "                                                                                                  \n",
            " conv4_block5_1_bn (BatchNormal  (None, 16, 16, 256)  1024       ['conv4_block5_1_conv[0][0]']    \n",
            " ization)                                                                                         \n",
            "                                                                                                  \n",
            " conv4_block5_1_relu (Activatio  (None, 16, 16, 256)  0          ['conv4_block5_1_bn[0][0]']      \n",
            " n)                                                                                               \n",
            "                                                                                                  \n",
            " conv4_block5_2_conv (Conv2D)   (None, 16, 16, 256)  590080      ['conv4_block5_1_relu[0][0]']    \n",
            "                                                                                                  \n",
            " conv4_block5_2_bn (BatchNormal  (None, 16, 16, 256)  1024       ['conv4_block5_2_conv[0][0]']    \n",
            " ization)                                                                                         \n",
            "                                                                                                  \n",
            " conv4_block5_2_relu (Activatio  (None, 16, 16, 256)  0          ['conv4_block5_2_bn[0][0]']      \n",
            " n)                                                                                               \n",
            "                                                                                                  \n",
            " conv4_block5_3_conv (Conv2D)   (None, 16, 16, 1024  263168      ['conv4_block5_2_relu[0][0]']    \n",
            "                                )                                                                 \n",
            "                                                                                                  \n",
            " conv4_block5_3_bn (BatchNormal  (None, 16, 16, 1024  4096       ['conv4_block5_3_conv[0][0]']    \n",
            " ization)                       )                                                                 \n",
            "                                                                                                  \n",
            " conv4_block5_add (Add)         (None, 16, 16, 1024  0           ['conv4_block4_out[0][0]',       \n",
            "                                )                                 'conv4_block5_3_bn[0][0]']      \n",
            "                                                                                                  \n",
            " conv4_block5_out (Activation)  (None, 16, 16, 1024  0           ['conv4_block5_add[0][0]']       \n",
            "                                )                                                                 \n",
            "                                                                                                  \n",
            " conv4_block6_1_conv (Conv2D)   (None, 16, 16, 256)  262400      ['conv4_block5_out[0][0]']       \n",
            "                                                                                                  \n",
            " conv4_block6_1_bn (BatchNormal  (None, 16, 16, 256)  1024       ['conv4_block6_1_conv[0][0]']    \n",
            " ization)                                                                                         \n",
            "                                                                                                  \n",
            " conv4_block6_1_relu (Activatio  (None, 16, 16, 256)  0          ['conv4_block6_1_bn[0][0]']      \n",
            " n)                                                                                               \n",
            "                                                                                                  \n",
            " conv4_block6_2_conv (Conv2D)   (None, 16, 16, 256)  590080      ['conv4_block6_1_relu[0][0]']    \n",
            "                                                                                                  \n",
            " conv4_block6_2_bn (BatchNormal  (None, 16, 16, 256)  1024       ['conv4_block6_2_conv[0][0]']    \n",
            " ization)                                                                                         \n",
            "                                                                                                  \n",
            " conv4_block6_2_relu (Activatio  (None, 16, 16, 256)  0          ['conv4_block6_2_bn[0][0]']      \n",
            " n)                                                                                               \n",
            "                                                                                                  \n",
            " conv4_block6_3_conv (Conv2D)   (None, 16, 16, 1024  263168      ['conv4_block6_2_relu[0][0]']    \n",
            "                                )                                                                 \n",
            "                                                                                                  \n",
            " conv4_block6_3_bn (BatchNormal  (None, 16, 16, 1024  4096       ['conv4_block6_3_conv[0][0]']    \n",
            " ization)                       )                                                                 \n",
            "                                                                                                  \n",
            " conv4_block6_add (Add)         (None, 16, 16, 1024  0           ['conv4_block5_out[0][0]',       \n",
            "                                )                                 'conv4_block6_3_bn[0][0]']      \n",
            "                                                                                                  \n",
            " conv4_block6_out (Activation)  (None, 16, 16, 1024  0           ['conv4_block6_add[0][0]']       \n",
            "                                )                                                                 \n",
            "                                                                                                  \n",
            " conv5_block1_1_conv (Conv2D)   (None, 8, 8, 512)    524800      ['conv4_block6_out[0][0]']       \n",
            "                                                                                                  \n",
            " conv5_block1_1_bn (BatchNormal  (None, 8, 8, 512)   2048        ['conv5_block1_1_conv[0][0]']    \n",
            " ization)                                                                                         \n",
            "                                                                                                  \n",
            " conv5_block1_1_relu (Activatio  (None, 8, 8, 512)   0           ['conv5_block1_1_bn[0][0]']      \n",
            " n)                                                                                               \n",
            "                                                                                                  \n",
            " conv5_block1_2_conv (Conv2D)   (None, 8, 8, 512)    2359808     ['conv5_block1_1_relu[0][0]']    \n",
            "                                                                                                  \n",
            " conv5_block1_2_bn (BatchNormal  (None, 8, 8, 512)   2048        ['conv5_block1_2_conv[0][0]']    \n",
            " ization)                                                                                         \n",
            "                                                                                                  \n",
            " conv5_block1_2_relu (Activatio  (None, 8, 8, 512)   0           ['conv5_block1_2_bn[0][0]']      \n",
            " n)                                                                                               \n",
            "                                                                                                  \n",
            " conv5_block1_0_conv (Conv2D)   (None, 8, 8, 2048)   2099200     ['conv4_block6_out[0][0]']       \n",
            "                                                                                                  \n",
            " conv5_block1_3_conv (Conv2D)   (None, 8, 8, 2048)   1050624     ['conv5_block1_2_relu[0][0]']    \n",
            "                                                                                                  \n",
            " conv5_block1_0_bn (BatchNormal  (None, 8, 8, 2048)  8192        ['conv5_block1_0_conv[0][0]']    \n",
            " ization)                                                                                         \n",
            "                                                                                                  \n",
            " conv5_block1_3_bn (BatchNormal  (None, 8, 8, 2048)  8192        ['conv5_block1_3_conv[0][0]']    \n",
            " ization)                                                                                         \n",
            "                                                                                                  \n",
            " conv5_block1_add (Add)         (None, 8, 8, 2048)   0           ['conv5_block1_0_bn[0][0]',      \n",
            "                                                                  'conv5_block1_3_bn[0][0]']      \n",
            "                                                                                                  \n",
            " conv5_block1_out (Activation)  (None, 8, 8, 2048)   0           ['conv5_block1_add[0][0]']       \n",
            "                                                                                                  \n",
            " conv5_block2_1_conv (Conv2D)   (None, 8, 8, 512)    1049088     ['conv5_block1_out[0][0]']       \n",
            "                                                                                                  \n",
            " conv5_block2_1_bn (BatchNormal  (None, 8, 8, 512)   2048        ['conv5_block2_1_conv[0][0]']    \n",
            " ization)                                                                                         \n",
            "                                                                                                  \n",
            " conv5_block2_1_relu (Activatio  (None, 8, 8, 512)   0           ['conv5_block2_1_bn[0][0]']      \n",
            " n)                                                                                               \n",
            "                                                                                                  \n",
            " conv5_block2_2_conv (Conv2D)   (None, 8, 8, 512)    2359808     ['conv5_block2_1_relu[0][0]']    \n",
            "                                                                                                  \n",
            " conv5_block2_2_bn (BatchNormal  (None, 8, 8, 512)   2048        ['conv5_block2_2_conv[0][0]']    \n",
            " ization)                                                                                         \n",
            "                                                                                                  \n",
            " conv5_block2_2_relu (Activatio  (None, 8, 8, 512)   0           ['conv5_block2_2_bn[0][0]']      \n",
            " n)                                                                                               \n",
            "                                                                                                  \n",
            " conv5_block2_3_conv (Conv2D)   (None, 8, 8, 2048)   1050624     ['conv5_block2_2_relu[0][0]']    \n",
            "                                                                                                  \n",
            " conv5_block2_3_bn (BatchNormal  (None, 8, 8, 2048)  8192        ['conv5_block2_3_conv[0][0]']    \n",
            " ization)                                                                                         \n",
            "                                                                                                  \n",
            " conv5_block2_add (Add)         (None, 8, 8, 2048)   0           ['conv5_block1_out[0][0]',       \n",
            "                                                                  'conv5_block2_3_bn[0][0]']      \n",
            "                                                                                                  \n",
            " conv5_block2_out (Activation)  (None, 8, 8, 2048)   0           ['conv5_block2_add[0][0]']       \n",
            "                                                                                                  \n",
            " conv5_block3_1_conv (Conv2D)   (None, 8, 8, 512)    1049088     ['conv5_block2_out[0][0]']       \n",
            "                                                                                                  \n",
            " conv5_block3_1_bn (BatchNormal  (None, 8, 8, 512)   2048        ['conv5_block3_1_conv[0][0]']    \n",
            " ization)                                                                                         \n",
            "                                                                                                  \n",
            " conv5_block3_1_relu (Activatio  (None, 8, 8, 512)   0           ['conv5_block3_1_bn[0][0]']      \n",
            " n)                                                                                               \n",
            "                                                                                                  \n",
            " conv5_block3_2_conv (Conv2D)   (None, 8, 8, 512)    2359808     ['conv5_block3_1_relu[0][0]']    \n",
            "                                                                                                  \n",
            " conv5_block3_2_bn (BatchNormal  (None, 8, 8, 512)   2048        ['conv5_block3_2_conv[0][0]']    \n",
            " ization)                                                                                         \n",
            "                                                                                                  \n",
            " conv5_block3_2_relu (Activatio  (None, 8, 8, 512)   0           ['conv5_block3_2_bn[0][0]']      \n",
            " n)                                                                                               \n",
            "                                                                                                  \n",
            " conv5_block3_3_conv (Conv2D)   (None, 8, 8, 2048)   1050624     ['conv5_block3_2_relu[0][0]']    \n",
            "                                                                                                  \n",
            " conv5_block3_3_bn (BatchNormal  (None, 8, 8, 2048)  8192        ['conv5_block3_3_conv[0][0]']    \n",
            " ization)                                                                                         \n",
            "                                                                                                  \n",
            " conv5_block3_add (Add)         (None, 8, 8, 2048)   0           ['conv5_block2_out[0][0]',       \n",
            "                                                                  'conv5_block3_3_bn[0][0]']      \n",
            "                                                                                                  \n",
            " conv5_block3_out (Activation)  (None, 8, 8, 2048)   0           ['conv5_block3_add[0][0]']       \n",
            "                                                                                                  \n",
            "==================================================================================================\n",
            "Total params: 23,587,712\n",
            "Trainable params: 23,534,592\n",
            "Non-trainable params: 53,120\n",
            "__________________________________________________________________________________________________\n"
          ]
        }
      ]
    },
    {
      "cell_type": "code",
      "source": [
        "# Building our model\n",
        "num_of_classes = 10 # No of classes of images\n",
        "\n",
        "model = models.Sequential() # we will stack all our layer in model\n",
        "\n",
        "# Since our image is of length and width(32,32) our resnet-50 could only take of (256,256)\n",
        "# We need to upscale out image dimension, so we need to upscale three times each time it doubles it dimension\n",
        "\n",
        "# first upscaling it will increase the dimension of image to (64,64)\n",
        "model.add(layers.UpSampling2D((2,2)))\n",
        "\n",
        "# Second upscaling it will increase the dimension of image to (128,128)\n",
        "model.add(layers.UpSampling2D((2,2)))\n",
        "\n",
        "# Third upscaling it will increase the dimension of image to (256,256)\n",
        "model.add(layers.UpSampling2D((2,2)))\n",
        "\n",
        "# Then we need to add out upscaled image to the nodel\n",
        "model.add(convolutional_base)\n",
        "\n",
        "# Again we do flatten , which we have seen ealier \n",
        "model.add(layers.Flatten())\n",
        "\n",
        "# we normalize the values on same scale in the end of each layer\n",
        "model.add(layers.BatchNormalization())\n",
        "\n",
        "# 128 Hidden layer with activation relu \n",
        "model.add(layers.Dense(128, activation='relu'))\n",
        "\n",
        "# To handle overfittng we use dropout, it applied to the hidden layers. \n",
        "# For instance, if the hidden layers have 1000 neurons (nodes) and a dropout is \n",
        "# applied with drop probability = 0.5, then 500 neurons would be randomly dropped in every iteration (batch)\n",
        "model.add(layers.Dropout(0.5))\n",
        "\n",
        "# In the end of layer we normalize\n",
        "model.add(layers.BatchNormalization())\n",
        "# Again we use hidden layer with 64 neurons \n",
        "model.add(layers.Dense(64, activation='relu'))\n",
        "model.add(layers.Dropout(0.5))\n",
        "model.add(layers.BatchNormalization())\n",
        "# for output layer we use activation fn softmax\n",
        "model.add(layers.Dense(num_of_classes, activation='softmax'))"
      ],
      "metadata": {
        "id": "pzkzL6pSInd0"
      },
      "execution_count": 77,
      "outputs": []
    },
    {
      "cell_type": "code",
      "source": [
        "\n",
        "# RMSprop optimizer is better than adam\n",
        "# The gist of RMSprop is to: Maintain a moving (discounted) average of \n",
        "# the square of gradients. Divide the gradient by the root of this average.\n",
        "\n",
        "# lr is learning rate it decides how much change in weight be there in one updation.\n",
        "# all other parameter we have seen ealier\n",
        "model.compile(optimizer=optimizers.RMSprop(lr=2e-5), loss='sparse_categorical_crossentropy', metrics=['acc'])"
      ],
      "metadata": {
        "id": "JRY8IP8jIniK",
        "colab": {
          "base_uri": "https://localhost:8080/",
          "height": 0
        },
        "outputId": "55a1ef45-c09e-48bd-d2a7-1af5aec41b65"
      },
      "execution_count": 78,
      "outputs": [
        {
          "output_type": "stream",
          "name": "stderr",
          "text": [
            "WARNING:absl:`lr` is deprecated in Keras optimizer, please use `learning_rate` or use the legacy optimizer, e.g.,tf.keras.optimizers.legacy.RMSprop.\n"
          ]
        }
      ]
    },
    {
      "cell_type": "code",
      "source": [
        "history = model.fit(X_train_scaled, Y_train, validation_split=0.1, epochs=10)"
      ],
      "metadata": {
        "id": "AznYorrBInly",
        "colab": {
          "base_uri": "https://localhost:8080/",
          "height": 0
        },
        "outputId": "d3356fe2-8321-42d3-d007-e2c876542e9c"
      },
      "execution_count": 79,
      "outputs": [
        {
          "output_type": "stream",
          "name": "stdout",
          "text": [
            "Epoch 1/10\n",
            "1125/1125 [==============================] - 468s 379ms/step - loss: 1.9827 - acc: 0.2800 - val_loss: 1.7393 - val_acc: 0.3975\n",
            "Epoch 2/10\n",
            "1125/1125 [==============================] - 428s 381ms/step - loss: 1.3934 - acc: 0.5027 - val_loss: 2.5215 - val_acc: 0.3467\n",
            "Epoch 3/10\n",
            "1125/1125 [==============================] - 429s 381ms/step - loss: 1.1829 - acc: 0.5889 - val_loss: 1.4285 - val_acc: 0.5433\n",
            "Epoch 4/10\n",
            "1125/1125 [==============================] - 430s 382ms/step - loss: 1.0509 - acc: 0.6419 - val_loss: 0.8826 - val_acc: 0.6827\n",
            "Epoch 5/10\n",
            "1125/1125 [==============================] - 437s 388ms/step - loss: 0.9503 - acc: 0.6821 - val_loss: 0.8765 - val_acc: 0.7010\n",
            "Epoch 6/10\n",
            "1125/1125 [==============================] - 437s 388ms/step - loss: 0.8628 - acc: 0.7124 - val_loss: 1.0418 - val_acc: 0.6405\n",
            "Epoch 7/10\n",
            "1125/1125 [==============================] - 437s 388ms/step - loss: 0.7883 - acc: 0.7381 - val_loss: 0.9221 - val_acc: 0.6850\n",
            "Epoch 8/10\n",
            "1125/1125 [==============================] - 437s 388ms/step - loss: 0.7234 - acc: 0.7634 - val_loss: 0.7869 - val_acc: 0.7533\n",
            "Epoch 9/10\n",
            "1125/1125 [==============================] - 437s 388ms/step - loss: 0.6666 - acc: 0.7842 - val_loss: 0.8641 - val_acc: 0.7203\n",
            "Epoch 10/10\n",
            "1125/1125 [==============================] - 430s 382ms/step - loss: 0.6233 - acc: 0.8021 - val_loss: 0.7786 - val_acc: 0.7467\n"
          ]
        }
      ]
    },
    {
      "cell_type": "code",
      "source": [
        "# evaluating loss and accuracy on test data\n",
        "loss, accuracy = model.evaluate(X_test_scaled, Y_test)\n",
        "print('Test Accuracy =', accuracy)"
      ],
      "metadata": {
        "id": "8EOCLvc4MzY6",
        "colab": {
          "base_uri": "https://localhost:8080/",
          "height": 0
        },
        "outputId": "3e2478b7-f0bd-46a6-966d-6db2ff12c595"
      },
      "execution_count": 80,
      "outputs": [
        {
          "output_type": "stream",
          "name": "stdout",
          "text": [
            "313/313 [==============================] - 38s 115ms/step - loss: 0.7859 - acc: 0.7427\n",
            "Test Accuracy = 0.7426999807357788\n"
          ]
        }
      ]
    },
    {
      "cell_type": "code",
      "source": [
        "h = history\n",
        "\n",
        "# plot the loss value\n",
        "plt.plot(h.history['loss'], label='train loss')\n",
        "plt.plot(h.history['val_loss'], label='validation loss')\n",
        "plt.legend()\n",
        "plt.show()\n",
        "\n",
        "# plot the accuracy value\n",
        "plt.plot(h.history['acc'], label='train accuracy')\n",
        "plt.plot(h.history['val_acc'], label='validation accuracy')\n",
        "plt.legend()\n",
        "plt.show()"
      ],
      "metadata": {
        "id": "PacqxXkfMzip",
        "colab": {
          "base_uri": "https://localhost:8080/",
          "height": 843
        },
        "outputId": "82a17e1b-807f-4fe3-bce2-992480da8d23"
      },
      "execution_count": 81,
      "outputs": [
        {
          "output_type": "display_data",
          "data": {
            "text/plain": [
              "<Figure size 640x480 with 1 Axes>"
            ],
            "image/png": "[encoded data removed]"
          },
          "metadata": {}
        },
        {
          "output_type": "display_data",
          "data": {
            "text/plain": [
              "<Figure size 640x480 with 1 Axes>"
            ],
            "image/png": "[encoded data removed]"
          },
          "metadata": {}
        }
      ]
    }
  ]
}